{
 "cells": [
  {
   "cell_type": "code",
   "execution_count": 27,
   "metadata": {},
   "outputs": [],
   "source": [
    "import pandas as pd\n",
    "import numpy as np\n",
    "from sklearn.model_selection import train_test_split\n",
    "from sklearn.preprocessing import StandardScaler\n",
    "import tensorflow as tf\n",
    "from tensorflow.keras.models import Sequential\n",
    "from tensorflow.keras.layers import Dense\n",
    "from tensorflow.keras.utils import to_categorical\n",
    "from sklearn.preprocessing import StandardScaler\n"
   ]
  },
  {
   "cell_type": "code",
   "execution_count": 2,
   "metadata": {},
   "outputs": [],
   "source": [
    "# Load the dataset\n",
    "df = pd.read_csv('bike_data.csv')"
   ]
  },
  {
   "cell_type": "code",
   "execution_count": 3,
   "metadata": {},
   "outputs": [],
   "source": [
    "# Parse timestamp to create time-related features\n",
    "df['timestamp'] = pd.to_datetime(df['timestamp'])\n",
    "df['Hour'] = df['timestamp'].dt.hour\n",
    "df['Month'] = df['timestamp'].dt.month\n",
    "df['Day'] = df['timestamp'].dt.day\n",
    "df['DayOfWeek'] = df['timestamp'].dt.dayofweek"
   ]
  },
  {
   "cell_type": "code",
   "execution_count": 4,
   "metadata": {},
   "outputs": [],
   "source": [
    "# Select relevant features and target\n",
    "X = df[['station_id', 'Hour', 'Month', 'Day', 'DayOfWeek', 'weather_sunny', 'weather_rainy', 'holidays_public_holiday']]\n",
    "y = df['maintenance_needed']"
   ]
  },
  {
   "cell_type": "code",
   "execution_count": 13,
   "metadata": {},
   "outputs": [],
   "source": [
    "# Split the data into training and validation sets\n",
    "X_train_class, X_val_class, y_train_class, y_val_class = train_test_split(X, y, test_size=0.2, random_state=42)\n"
   ]
  },
  {
   "cell_type": "code",
   "execution_count": 9,
   "metadata": {},
   "outputs": [],
   "source": [
    "# Scale the features for the neural network\n",
    "scaler = StandardScaler()\n",
    "X_train_class_scaled = scaler.fit_transform(X_train_class)\n",
    "X_val_class_scaled = scaler.transform(X_val_class)"
   ]
  },
  {
   "cell_type": "code",
   "execution_count": 15,
   "metadata": {},
   "outputs": [],
   "source": [
    "# Convert the target variable to categorical (one-hot encoding)\n",
    "y_train_class_categorical = to_categorical(y_train_class)\n",
    "y_val_class_categorical = to_categorical(y_val_class)"
   ]
  },
  {
   "cell_type": "code",
   "execution_count": 10,
   "metadata": {},
   "outputs": [
    {
     "name": "stdout",
     "output_type": "stream",
     "text": [
      "WARNING:tensorflow:From c:\\Users\\91932\\AppData\\Local\\Programs\\Python\\Python310\\lib\\site-packages\\keras\\src\\backend.py:873: The name tf.get_default_graph is deprecated. Please use tf.compat.v1.get_default_graph instead.\n",
      "\n"
     ]
    }
   ],
   "source": [
    "# Build the neural network model\n",
    "nn_model = Sequential([\n",
    "    Dense(64, input_dim=X_train_class_scaled.shape[1], activation='relu'),\n",
    "    Dense(32, activation='relu'),\n",
    "    Dense(2, activation='softmax')  # 2 output neurons for binary classification\n",
    "])\n"
   ]
  },
  {
   "cell_type": "code",
   "execution_count": 11,
   "metadata": {},
   "outputs": [
    {
     "name": "stdout",
     "output_type": "stream",
     "text": [
      "WARNING:tensorflow:From c:\\Users\\91932\\AppData\\Local\\Programs\\Python\\Python310\\lib\\site-packages\\keras\\src\\optimizers\\__init__.py:309: The name tf.train.Optimizer is deprecated. Please use tf.compat.v1.train.Optimizer instead.\n",
      "\n"
     ]
    }
   ],
   "source": [
    "# Compile the model\n",
    "nn_model.compile(optimizer='adam',\n",
    "                 loss='categorical_crossentropy',\n",
    "                 metrics=['accuracy'])"
   ]
  },
  {
   "cell_type": "code",
   "execution_count": 16,
   "metadata": {},
   "outputs": [
    {
     "name": "stdout",
     "output_type": "stream",
     "text": [
      "Epoch 1/100\n",
      "WARNING:tensorflow:From c:\\Users\\91932\\AppData\\Local\\Programs\\Python\\Python310\\lib\\site-packages\\keras\\src\\utils\\tf_utils.py:492: The name tf.ragged.RaggedTensorValue is deprecated. Please use tf.compat.v1.ragged.RaggedTensorValue instead.\n",
      "\n",
      "WARNING:tensorflow:From c:\\Users\\91932\\AppData\\Local\\Programs\\Python\\Python310\\lib\\site-packages\\keras\\src\\engine\\base_layer_utils.py:384: The name tf.executing_eagerly_outside_functions is deprecated. Please use tf.compat.v1.executing_eagerly_outside_functions instead.\n",
      "\n",
      "250/250 [==============================] - 2s 3ms/step - loss: 0.3440 - accuracy: 0.8938 - val_loss: 0.3315 - val_accuracy: 0.9015\n",
      "Epoch 2/100\n",
      "250/250 [==============================] - 0s 2ms/step - loss: 0.3235 - accuracy: 0.9024 - val_loss: 0.3279 - val_accuracy: 0.9015\n",
      "Epoch 3/100\n",
      "250/250 [==============================] - 1s 3ms/step - loss: 0.3205 - accuracy: 0.9024 - val_loss: 0.3265 - val_accuracy: 0.9015\n",
      "Epoch 4/100\n",
      "250/250 [==============================] - 0s 2ms/step - loss: 0.3196 - accuracy: 0.9024 - val_loss: 0.3295 - val_accuracy: 0.9015\n",
      "Epoch 5/100\n",
      "250/250 [==============================] - 0s 2ms/step - loss: 0.3180 - accuracy: 0.9024 - val_loss: 0.3325 - val_accuracy: 0.9015\n",
      "Epoch 6/100\n",
      "250/250 [==============================] - 0s 2ms/step - loss: 0.3170 - accuracy: 0.9024 - val_loss: 0.3294 - val_accuracy: 0.9015\n",
      "Epoch 7/100\n",
      "250/250 [==============================] - 0s 2ms/step - loss: 0.3165 - accuracy: 0.9024 - val_loss: 0.3315 - val_accuracy: 0.9015\n",
      "Epoch 8/100\n",
      "250/250 [==============================] - 1s 2ms/step - loss: 0.3151 - accuracy: 0.9024 - val_loss: 0.3342 - val_accuracy: 0.9015\n",
      "Epoch 9/100\n",
      "250/250 [==============================] - 1s 2ms/step - loss: 0.3153 - accuracy: 0.9024 - val_loss: 0.3300 - val_accuracy: 0.9015\n",
      "Epoch 10/100\n",
      "250/250 [==============================] - 1s 3ms/step - loss: 0.3142 - accuracy: 0.9024 - val_loss: 0.3292 - val_accuracy: 0.9015\n",
      "Epoch 11/100\n",
      "250/250 [==============================] - 1s 2ms/step - loss: 0.3134 - accuracy: 0.9024 - val_loss: 0.3295 - val_accuracy: 0.9015\n",
      "Epoch 12/100\n",
      "250/250 [==============================] - 1s 2ms/step - loss: 0.3124 - accuracy: 0.9024 - val_loss: 0.3312 - val_accuracy: 0.9015\n",
      "Epoch 13/100\n",
      "250/250 [==============================] - 1s 2ms/step - loss: 0.3117 - accuracy: 0.9024 - val_loss: 0.3297 - val_accuracy: 0.9015\n",
      "Epoch 14/100\n",
      "250/250 [==============================] - 1s 3ms/step - loss: 0.3110 - accuracy: 0.9024 - val_loss: 0.3292 - val_accuracy: 0.9015\n",
      "Epoch 15/100\n",
      "250/250 [==============================] - 1s 2ms/step - loss: 0.3101 - accuracy: 0.9024 - val_loss: 0.3403 - val_accuracy: 0.9015\n",
      "Epoch 16/100\n",
      "250/250 [==============================] - 0s 2ms/step - loss: 0.3101 - accuracy: 0.9024 - val_loss: 0.3302 - val_accuracy: 0.9015\n",
      "Epoch 17/100\n",
      "250/250 [==============================] - 0s 2ms/step - loss: 0.3091 - accuracy: 0.9024 - val_loss: 0.3340 - val_accuracy: 0.9015\n",
      "Epoch 18/100\n",
      "250/250 [==============================] - 0s 2ms/step - loss: 0.3078 - accuracy: 0.9024 - val_loss: 0.3366 - val_accuracy: 0.9010\n",
      "Epoch 19/100\n",
      "250/250 [==============================] - 0s 2ms/step - loss: 0.3071 - accuracy: 0.9024 - val_loss: 0.3335 - val_accuracy: 0.9015\n",
      "Epoch 20/100\n",
      "250/250 [==============================] - 0s 2ms/step - loss: 0.3066 - accuracy: 0.9024 - val_loss: 0.3346 - val_accuracy: 0.9010\n",
      "Epoch 21/100\n",
      "250/250 [==============================] - 0s 2ms/step - loss: 0.3057 - accuracy: 0.9024 - val_loss: 0.3368 - val_accuracy: 0.9010\n",
      "Epoch 22/100\n",
      "250/250 [==============================] - 0s 2ms/step - loss: 0.3051 - accuracy: 0.9024 - val_loss: 0.3348 - val_accuracy: 0.9015\n",
      "Epoch 23/100\n",
      "250/250 [==============================] - 0s 2ms/step - loss: 0.3051 - accuracy: 0.9024 - val_loss: 0.3388 - val_accuracy: 0.9015\n",
      "Epoch 24/100\n",
      "250/250 [==============================] - 0s 2ms/step - loss: 0.3033 - accuracy: 0.9025 - val_loss: 0.3370 - val_accuracy: 0.9015\n",
      "Epoch 25/100\n",
      "250/250 [==============================] - 0s 2ms/step - loss: 0.3031 - accuracy: 0.9022 - val_loss: 0.3364 - val_accuracy: 0.9015\n",
      "Epoch 26/100\n",
      "250/250 [==============================] - 0s 2ms/step - loss: 0.3028 - accuracy: 0.9024 - val_loss: 0.3403 - val_accuracy: 0.9015\n",
      "Epoch 27/100\n",
      "250/250 [==============================] - 0s 2ms/step - loss: 0.3009 - accuracy: 0.9024 - val_loss: 0.3418 - val_accuracy: 0.9015\n",
      "Epoch 28/100\n",
      "250/250 [==============================] - 1s 2ms/step - loss: 0.3011 - accuracy: 0.9022 - val_loss: 0.3363 - val_accuracy: 0.9010\n",
      "Epoch 29/100\n",
      "250/250 [==============================] - 1s 2ms/step - loss: 0.3005 - accuracy: 0.9025 - val_loss: 0.3372 - val_accuracy: 0.9015\n",
      "Epoch 30/100\n",
      "250/250 [==============================] - 1s 3ms/step - loss: 0.2996 - accuracy: 0.9025 - val_loss: 0.3380 - val_accuracy: 0.9015\n",
      "Epoch 31/100\n",
      "250/250 [==============================] - 0s 2ms/step - loss: 0.2991 - accuracy: 0.9024 - val_loss: 0.3368 - val_accuracy: 0.9015\n",
      "Epoch 32/100\n",
      "250/250 [==============================] - 0s 2ms/step - loss: 0.2978 - accuracy: 0.9025 - val_loss: 0.3395 - val_accuracy: 0.9015\n",
      "Epoch 33/100\n",
      "250/250 [==============================] - 0s 1ms/step - loss: 0.2980 - accuracy: 0.9022 - val_loss: 0.3410 - val_accuracy: 0.9000\n",
      "Epoch 34/100\n",
      "250/250 [==============================] - 0s 2ms/step - loss: 0.2961 - accuracy: 0.9025 - val_loss: 0.3412 - val_accuracy: 0.9010\n",
      "Epoch 35/100\n",
      "250/250 [==============================] - 0s 1ms/step - loss: 0.2964 - accuracy: 0.9025 - val_loss: 0.3454 - val_accuracy: 0.9000\n",
      "Epoch 36/100\n",
      "250/250 [==============================] - 0s 2ms/step - loss: 0.2958 - accuracy: 0.9024 - val_loss: 0.3431 - val_accuracy: 0.9010\n",
      "Epoch 37/100\n",
      "250/250 [==============================] - 0s 1ms/step - loss: 0.2943 - accuracy: 0.9029 - val_loss: 0.3412 - val_accuracy: 0.9015\n",
      "Epoch 38/100\n",
      "250/250 [==============================] - 0s 1ms/step - loss: 0.2935 - accuracy: 0.9024 - val_loss: 0.3477 - val_accuracy: 0.9010\n",
      "Epoch 39/100\n",
      "250/250 [==============================] - 0s 1ms/step - loss: 0.2950 - accuracy: 0.9025 - val_loss: 0.3458 - val_accuracy: 0.9015\n",
      "Epoch 40/100\n",
      "250/250 [==============================] - 0s 1ms/step - loss: 0.2935 - accuracy: 0.9026 - val_loss: 0.3545 - val_accuracy: 0.8950\n",
      "Epoch 41/100\n",
      "250/250 [==============================] - 0s 2ms/step - loss: 0.2930 - accuracy: 0.9030 - val_loss: 0.3439 - val_accuracy: 0.9010\n",
      "Epoch 42/100\n",
      "250/250 [==============================] - 0s 2ms/step - loss: 0.2913 - accuracy: 0.9024 - val_loss: 0.3480 - val_accuracy: 0.8985\n",
      "Epoch 43/100\n",
      "250/250 [==============================] - 0s 1ms/step - loss: 0.2907 - accuracy: 0.9030 - val_loss: 0.3457 - val_accuracy: 0.9010\n",
      "Epoch 44/100\n",
      "250/250 [==============================] - 0s 2ms/step - loss: 0.2905 - accuracy: 0.9029 - val_loss: 0.3503 - val_accuracy: 0.9005\n",
      "Epoch 45/100\n",
      "250/250 [==============================] - 0s 2ms/step - loss: 0.2898 - accuracy: 0.9032 - val_loss: 0.3478 - val_accuracy: 0.9010\n",
      "Epoch 46/100\n",
      "250/250 [==============================] - 0s 1ms/step - loss: 0.2898 - accuracy: 0.9025 - val_loss: 0.3486 - val_accuracy: 0.8995\n",
      "Epoch 47/100\n",
      "250/250 [==============================] - 0s 2ms/step - loss: 0.2884 - accuracy: 0.9028 - val_loss: 0.3502 - val_accuracy: 0.9015\n",
      "Epoch 48/100\n",
      "250/250 [==============================] - 0s 2ms/step - loss: 0.2888 - accuracy: 0.9030 - val_loss: 0.3493 - val_accuracy: 0.9010\n",
      "Epoch 49/100\n",
      "250/250 [==============================] - 0s 2ms/step - loss: 0.2884 - accuracy: 0.9031 - val_loss: 0.3506 - val_accuracy: 0.9015\n",
      "Epoch 50/100\n",
      "250/250 [==============================] - 0s 2ms/step - loss: 0.2863 - accuracy: 0.9020 - val_loss: 0.3510 - val_accuracy: 0.8980\n",
      "Epoch 51/100\n",
      "250/250 [==============================] - 0s 1ms/step - loss: 0.2879 - accuracy: 0.9026 - val_loss: 0.3535 - val_accuracy: 0.8960\n",
      "Epoch 52/100\n",
      "250/250 [==============================] - 0s 1ms/step - loss: 0.2869 - accuracy: 0.9028 - val_loss: 0.3553 - val_accuracy: 0.9015\n",
      "Epoch 53/100\n",
      "250/250 [==============================] - 0s 2ms/step - loss: 0.2859 - accuracy: 0.9028 - val_loss: 0.3538 - val_accuracy: 0.9000\n",
      "Epoch 54/100\n",
      "250/250 [==============================] - 0s 1ms/step - loss: 0.2864 - accuracy: 0.9025 - val_loss: 0.3492 - val_accuracy: 0.8995\n",
      "Epoch 55/100\n",
      "250/250 [==============================] - 0s 2ms/step - loss: 0.2836 - accuracy: 0.9032 - val_loss: 0.3555 - val_accuracy: 0.8975\n",
      "Epoch 56/100\n",
      "250/250 [==============================] - 0s 2ms/step - loss: 0.2847 - accuracy: 0.9025 - val_loss: 0.3526 - val_accuracy: 0.8990\n",
      "Epoch 57/100\n",
      "250/250 [==============================] - 0s 1ms/step - loss: 0.2827 - accuracy: 0.9034 - val_loss: 0.3596 - val_accuracy: 0.8950\n",
      "Epoch 58/100\n",
      "250/250 [==============================] - 0s 2ms/step - loss: 0.2840 - accuracy: 0.9030 - val_loss: 0.3601 - val_accuracy: 0.8940\n",
      "Epoch 59/100\n",
      "250/250 [==============================] - 0s 1ms/step - loss: 0.2829 - accuracy: 0.9034 - val_loss: 0.3609 - val_accuracy: 0.8970\n",
      "Epoch 60/100\n",
      "250/250 [==============================] - 0s 2ms/step - loss: 0.2814 - accuracy: 0.9036 - val_loss: 0.3579 - val_accuracy: 0.9000\n",
      "Epoch 61/100\n",
      "250/250 [==============================] - 0s 2ms/step - loss: 0.2808 - accuracy: 0.9026 - val_loss: 0.3527 - val_accuracy: 0.8990\n",
      "Epoch 62/100\n",
      "250/250 [==============================] - 0s 1ms/step - loss: 0.2796 - accuracy: 0.9031 - val_loss: 0.3594 - val_accuracy: 0.8960\n",
      "Epoch 63/100\n",
      "250/250 [==============================] - 0s 1ms/step - loss: 0.2799 - accuracy: 0.9024 - val_loss: 0.3629 - val_accuracy: 0.9005\n",
      "Epoch 64/100\n",
      "250/250 [==============================] - 0s 2ms/step - loss: 0.2800 - accuracy: 0.9030 - val_loss: 0.3558 - val_accuracy: 0.9000\n",
      "Epoch 65/100\n",
      "250/250 [==============================] - 0s 1ms/step - loss: 0.2783 - accuracy: 0.9040 - val_loss: 0.3584 - val_accuracy: 0.8995\n",
      "Epoch 66/100\n",
      "250/250 [==============================] - 0s 1ms/step - loss: 0.2772 - accuracy: 0.9034 - val_loss: 0.3608 - val_accuracy: 0.9005\n",
      "Epoch 67/100\n",
      "250/250 [==============================] - 0s 2ms/step - loss: 0.2784 - accuracy: 0.9034 - val_loss: 0.3631 - val_accuracy: 0.8975\n",
      "Epoch 68/100\n",
      "250/250 [==============================] - 0s 2ms/step - loss: 0.2781 - accuracy: 0.9043 - val_loss: 0.3606 - val_accuracy: 0.8990\n",
      "Epoch 69/100\n",
      "250/250 [==============================] - 0s 2ms/step - loss: 0.2766 - accuracy: 0.9038 - val_loss: 0.3640 - val_accuracy: 0.8935\n",
      "Epoch 70/100\n",
      "250/250 [==============================] - 0s 2ms/step - loss: 0.2768 - accuracy: 0.9028 - val_loss: 0.3677 - val_accuracy: 0.8960\n",
      "Epoch 71/100\n",
      "250/250 [==============================] - 0s 1ms/step - loss: 0.2766 - accuracy: 0.9043 - val_loss: 0.3637 - val_accuracy: 0.8930\n",
      "Epoch 72/100\n",
      "250/250 [==============================] - 0s 2ms/step - loss: 0.2752 - accuracy: 0.9034 - val_loss: 0.3704 - val_accuracy: 0.8925\n",
      "Epoch 73/100\n",
      "250/250 [==============================] - 0s 1ms/step - loss: 0.2737 - accuracy: 0.9036 - val_loss: 0.3647 - val_accuracy: 0.8985\n",
      "Epoch 74/100\n",
      "250/250 [==============================] - 0s 1ms/step - loss: 0.2729 - accuracy: 0.9041 - val_loss: 0.3647 - val_accuracy: 0.8985\n",
      "Epoch 75/100\n",
      "250/250 [==============================] - 0s 2ms/step - loss: 0.2729 - accuracy: 0.9040 - val_loss: 0.3673 - val_accuracy: 0.8910\n",
      "Epoch 76/100\n",
      "250/250 [==============================] - 0s 2ms/step - loss: 0.2710 - accuracy: 0.9044 - val_loss: 0.3680 - val_accuracy: 0.9005\n",
      "Epoch 77/100\n",
      "250/250 [==============================] - 0s 2ms/step - loss: 0.2714 - accuracy: 0.9044 - val_loss: 0.3651 - val_accuracy: 0.8965\n",
      "Epoch 78/100\n",
      "250/250 [==============================] - 0s 2ms/step - loss: 0.2716 - accuracy: 0.9034 - val_loss: 0.3657 - val_accuracy: 0.8970\n",
      "Epoch 79/100\n",
      "250/250 [==============================] - 0s 2ms/step - loss: 0.2706 - accuracy: 0.9035 - val_loss: 0.3688 - val_accuracy: 0.8975\n",
      "Epoch 80/100\n",
      "250/250 [==============================] - 0s 2ms/step - loss: 0.2699 - accuracy: 0.9043 - val_loss: 0.3789 - val_accuracy: 0.8870\n",
      "Epoch 81/100\n",
      "250/250 [==============================] - 0s 2ms/step - loss: 0.2700 - accuracy: 0.9045 - val_loss: 0.3726 - val_accuracy: 0.8930\n",
      "Epoch 82/100\n",
      "250/250 [==============================] - 0s 2ms/step - loss: 0.2691 - accuracy: 0.9044 - val_loss: 0.3696 - val_accuracy: 0.8965\n",
      "Epoch 83/100\n",
      "250/250 [==============================] - 0s 2ms/step - loss: 0.2691 - accuracy: 0.9059 - val_loss: 0.3681 - val_accuracy: 0.8965\n",
      "Epoch 84/100\n",
      "250/250 [==============================] - 1s 3ms/step - loss: 0.2683 - accuracy: 0.9045 - val_loss: 0.3750 - val_accuracy: 0.8920\n",
      "Epoch 85/100\n",
      "250/250 [==============================] - 1s 2ms/step - loss: 0.2677 - accuracy: 0.9034 - val_loss: 0.3739 - val_accuracy: 0.8935\n",
      "Epoch 86/100\n",
      "250/250 [==============================] - 0s 2ms/step - loss: 0.2670 - accuracy: 0.9046 - val_loss: 0.3877 - val_accuracy: 0.8970\n",
      "Epoch 87/100\n",
      "250/250 [==============================] - 1s 2ms/step - loss: 0.2669 - accuracy: 0.9061 - val_loss: 0.3760 - val_accuracy: 0.8960\n",
      "Epoch 88/100\n",
      "250/250 [==============================] - 1s 2ms/step - loss: 0.2654 - accuracy: 0.9053 - val_loss: 0.3758 - val_accuracy: 0.8955\n",
      "Epoch 89/100\n",
      "250/250 [==============================] - 1s 2ms/step - loss: 0.2651 - accuracy: 0.9050 - val_loss: 0.3768 - val_accuracy: 0.8955\n",
      "Epoch 90/100\n",
      "250/250 [==============================] - 0s 2ms/step - loss: 0.2651 - accuracy: 0.9049 - val_loss: 0.3800 - val_accuracy: 0.8960\n",
      "Epoch 91/100\n",
      "250/250 [==============================] - 0s 2ms/step - loss: 0.2635 - accuracy: 0.9049 - val_loss: 0.3799 - val_accuracy: 0.8910\n",
      "Epoch 92/100\n",
      "250/250 [==============================] - 0s 2ms/step - loss: 0.2627 - accuracy: 0.9061 - val_loss: 0.3880 - val_accuracy: 0.8900\n",
      "Epoch 93/100\n",
      "250/250 [==============================] - 0s 2ms/step - loss: 0.2630 - accuracy: 0.9057 - val_loss: 0.3789 - val_accuracy: 0.8940\n",
      "Epoch 94/100\n",
      "250/250 [==============================] - 0s 2ms/step - loss: 0.2633 - accuracy: 0.9059 - val_loss: 0.3766 - val_accuracy: 0.8935\n",
      "Epoch 95/100\n",
      "250/250 [==============================] - 0s 2ms/step - loss: 0.2644 - accuracy: 0.9062 - val_loss: 0.3836 - val_accuracy: 0.8980\n",
      "Epoch 96/100\n",
      "250/250 [==============================] - 1s 3ms/step - loss: 0.2620 - accuracy: 0.9055 - val_loss: 0.3837 - val_accuracy: 0.8945\n",
      "Epoch 97/100\n",
      "250/250 [==============================] - 1s 2ms/step - loss: 0.2606 - accuracy: 0.9061 - val_loss: 0.3834 - val_accuracy: 0.8940\n",
      "Epoch 98/100\n",
      "250/250 [==============================] - 1s 3ms/step - loss: 0.2613 - accuracy: 0.9051 - val_loss: 0.3849 - val_accuracy: 0.8965\n",
      "Epoch 99/100\n",
      "250/250 [==============================] - 1s 3ms/step - loss: 0.2602 - accuracy: 0.9054 - val_loss: 0.3893 - val_accuracy: 0.8960\n",
      "Epoch 100/100\n",
      "250/250 [==============================] - 0s 2ms/step - loss: 0.2596 - accuracy: 0.9060 - val_loss: 0.3893 - val_accuracy: 0.8890\n"
     ]
    }
   ],
   "source": [
    "# Train the model\n",
    "history = nn_model.fit(X_train_class_scaled, y_train_class_categorical,\n",
    "                       epochs=100,  # You can adjust the number of epochs\n",
    "                       batch_size=32,\n",
    "                       validation_data=(X_val_class_scaled, y_val_class_categorical),\n",
    "                       verbose=1)"
   ]
  },
  {
   "cell_type": "code",
   "execution_count": 19,
   "metadata": {},
   "outputs": [
    {
     "name": "stdout",
     "output_type": "stream",
     "text": [
      "250/250 [==============================] - 0s 1ms/step\n",
      "63/63 [==============================] - 0s 1ms/step\n"
     ]
    }
   ],
   "source": [
    "# Evaluate the neural network model\n",
    "from sklearn.metrics import f1_score, precision_score, recall_score\n",
    "\n",
    "\n",
    "train_loss, train_accuracy = nn_model.evaluate(X_train_class_scaled, y_train_class_categorical, verbose=0)\n",
    "val_loss, val_accuracy = nn_model.evaluate(X_val_class_scaled, y_val_class_categorical, verbose=0)\n",
    "\n",
    "# Predicting the classes\n",
    "y_train_preds_nn = nn_model.predict(X_train_class_scaled).argmax(axis=1)\n",
    "y_val_preds_nn = nn_model.predict(X_val_class_scaled).argmax(axis=1)\n",
    "\n",
    "# Calculate and print the metrics for the neural network model\n",
    "train_precision_nn = precision_score(y_train_class, y_train_preds_nn)\n",
    "val_precision_nn = precision_score(y_val_class, y_val_preds_nn)\n",
    "\n",
    "train_recall_nn = recall_score(y_train_class, y_train_preds_nn)\n",
    "val_recall_nn = recall_score(y_val_class, y_val_preds_nn)\n",
    "\n",
    "train_f1_nn = f1_score(y_train_class, y_train_preds_nn)\n",
    "val_f1_nn = f1_score(y_val_class, y_val_preds_nn)"
   ]
  },
  {
   "cell_type": "code",
   "execution_count": 21,
   "metadata": {},
   "outputs": [
    {
     "name": "stdout",
     "output_type": "stream",
     "text": [
      "Neural Network Training Metrics:\n",
      "Accuracy: 0.9087\n",
      "Precision: 0.6624\n",
      "Recall: 0.1332\n",
      "F1 Score: 0.2217\n",
      "\n",
      "Neural Network Validation Metrics:\n",
      "Accuracy: 0.8890\n",
      "Precision: 0.0968\n",
      "Recall: 0.0152\n",
      "F1 Score: 0.0263\n",
      "\n",
      "Neural Network Classification Report (Validation):\n",
      "               precision    recall  f1-score   support\n",
      "\n",
      "           0       0.90      0.98      0.94      1803\n",
      "           1       0.10      0.02      0.03       197\n",
      "\n",
      "    accuracy                           0.89      2000\n",
      "   macro avg       0.50      0.50      0.48      2000\n",
      "weighted avg       0.82      0.89      0.85      2000\n",
      "\n"
     ]
    }
   ],
   "source": [
    "from sklearn.metrics import classification_report\n",
    "\n",
    "\n",
    "print(\"Neural Network Training Metrics:\")\n",
    "print(f\"Accuracy: {train_accuracy:.4f}\")\n",
    "print(f\"Precision: {train_precision_nn:.4f}\")\n",
    "print(f\"Recall: {train_recall_nn:.4f}\")\n",
    "print(f\"F1 Score: {train_f1_nn:.4f}\")\n",
    "\n",
    "print(\"\\nNeural Network Validation Metrics:\")\n",
    "print(f\"Accuracy: {val_accuracy:.4f}\")\n",
    "print(f\"Precision: {val_precision_nn:.4f}\")\n",
    "print(f\"Recall: {val_recall_nn:.4f}\")\n",
    "print(f\"F1 Score: {val_f1_nn:.4f}\")\n",
    "\n",
    "# Print the classification report for the neural network model on validation set\n",
    "print(\"\\nNeural Network Classification Report (Validation):\\n\", classification_report(y_val_class, y_val_preds_nn))\n"
   ]
  },
  {
   "cell_type": "code",
   "execution_count": 24,
   "metadata": {},
   "outputs": [
    {
     "data": {
      "image/png": "[encoded data removed]",
      "text/plain": [
       "<Figure size 800x600 with 1 Axes>"
      ]
     },
     "metadata": {},
     "output_type": "display_data"
    }
   ],
   "source": [
    "# Plotting the confusion matrix for the neural network model\n",
    "from matplotlib import pyplot as plt\n",
    "from sklearn.metrics import confusion_matrix\n",
    "import seaborn as sns\n",
    "\n",
    "\n",
    "\n",
    "conf_matrix_nn = confusion_matrix(y_val_class, y_val_preds_nn)\n",
    "plt.figure(figsize=(8, 6))\n",
    "sns.heatmap(conf_matrix_nn, annot=True, fmt='d', cmap='Blues', cbar=False,\n",
    "            xticklabels=['No Maintenance Needed', 'Maintenance Needed'],\n",
    "            yticklabels=['No Maintenance Needed', 'Maintenance Needed'])\n",
    "plt.title('Confusion Matrix for Maintenance Prediction (Neural Network)')\n",
    "plt.xlabel('Predicted Label')\n",
    "plt.ylabel('True Label')\n",
    "plt.show()"
   ]
  },
  {
   "cell_type": "code",
   "execution_count": 25,
   "metadata": {},
   "outputs": [
    {
     "name": "stderr",
     "output_type": "stream",
     "text": [
      "c:\\Users\\91932\\AppData\\Local\\Programs\\Python\\Python310\\lib\\site-packages\\keras\\src\\engine\\training.py:3103: UserWarning: You are saving your model as an HDF5 file via `model.save()`. This file format is considered legacy. We recommend using instead the native Keras format, e.g. `model.save('my_model.keras')`.\n",
      "  saving_api.save_model(\n"
     ]
    },
    {
     "data": {
      "text/plain": [
       "['./maintenance_prediction/scaler.pkl']"
      ]
     },
     "execution_count": 25,
     "metadata": {},
     "output_type": "execute_result"
    }
   ],
   "source": [
    "# Save the model and the scaler\n",
    "import joblib\n",
    "\n",
    "\n",
    "nn_model.save('maintenance_prediction_model.h5')\n",
    "joblib.dump(scaler, './maintenance_prediction/scaler.pkl')"
   ]
  }
 ],
 "metadata": {
  "kernelspec": {
   "display_name": "Python 3",
   "language": "python",
   "name": "python3"
  },
  "language_info": {
   "codemirror_mode": {
    "name": "ipython",
    "version": 3
   },
   "file_extension": ".py",
   "mimetype": "text/x-python",
   "name": "python",
   "nbconvert_exporter": "python",
   "pygments_lexer": "ipython3",
   "version": "3.10.5"
  }
 },
 "nbformat": 4,
 "nbformat_minor": 2
}
